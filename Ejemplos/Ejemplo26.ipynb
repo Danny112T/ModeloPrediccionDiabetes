{
 "cells": [
  {
   "cell_type": "markdown",
   "id": "6f373ec1",
   "metadata": {},
   "source": [
    "# AFE"
   ]
  },
  {
   "cell_type": "markdown",
   "id": "c8d2a126",
   "metadata": {},
   "source": [
    "## Análisis Factorial Exploratorio"
   ]
  },
  {
   "cell_type": "code",
   "execution_count": 1,
   "id": "353edf6c",
   "metadata": {},
   "outputs": [],
   "source": [
    "import pandas as pd"
   ]
  },
  {
   "cell_type": "code",
   "execution_count": 2,
   "id": "a765ee62",
   "metadata": {},
   "outputs": [],
   "source": [
    "df = pd.DataFrame ({\n",
    "    'v1':[6,4,9,1,2,5,3,0,4,1],\n",
    "    'v2':[1,2,3,4,5,6,7,8,9,0],\n",
    "    'v3':[7,5,8,3,4,1,9,0,6,7],\n",
    "    'v4':[7,8,5,9,1,0,7,6,2,4],\n",
    "    'v5':[1,2,3,9,0,7,8,4,8,9],\n",
    "    'v6':[0,9,1,3,9,8,0,4,8,2],\n",
    "    'v7':[9,8,3,2,4,9,8,0,8,9]\n",
    "})"
   ]
  },
  {
   "cell_type": "markdown",
   "id": "5bee06b3",
   "metadata": {},
   "source": [
    "**Para instalar en Anaconda**\n",
    "\n",
    "conda install -c desilinguist factor_analyzer\n",
    "\n",
    "**Para instalar con pip**\n",
    "\n",
    "pip install factor_analyzer"
   ]
  },
  {
   "cell_type": "code",
   "execution_count": 3,
   "id": "a74cbce4",
   "metadata": {},
   "outputs": [],
   "source": [
    "from factor_analyzer import FactorAnalyzer"
   ]
  },
  {
   "cell_type": "code",
   "execution_count": 4,
   "id": "8ac25d8b",
   "metadata": {},
   "outputs": [
    {
     "name": "stdout",
     "output_type": "stream",
     "text": [
      "   v1  v2  v3  v4  v5  v6  v7\n",
      "0   6   1   7   7   1   0   9\n",
      "1   4   2   5   8   2   9   8\n",
      "2   9   3   8   5   3   1   3\n",
      "3   1   4   3   9   9   3   2\n",
      "4   2   5   4   1   0   9   4\n",
      "5   5   6   1   0   7   8   9\n",
      "6   3   7   9   7   8   0   8\n",
      "7   0   8   0   6   4   4   0\n",
      "8   4   9   6   2   8   8   8\n",
      "9   1   0   7   4   9   2   9\n"
     ]
    }
   ],
   "source": [
    "print(df)"
   ]
  },
  {
   "cell_type": "code",
   "execution_count": 5,
   "id": "da73a4f5",
   "metadata": {},
   "outputs": [
    {
     "data": {
      "text/html": [
       "<style>#sk-container-id-1 {color: black;background-color: white;}#sk-container-id-1 pre{padding: 0;}#sk-container-id-1 div.sk-toggleable {background-color: white;}#sk-container-id-1 label.sk-toggleable__label {cursor: pointer;display: block;width: 100%;margin-bottom: 0;padding: 0.3em;box-sizing: border-box;text-align: center;}#sk-container-id-1 label.sk-toggleable__label-arrow:before {content: \"▸\";float: left;margin-right: 0.25em;color: #696969;}#sk-container-id-1 label.sk-toggleable__label-arrow:hover:before {color: black;}#sk-container-id-1 div.sk-estimator:hover label.sk-toggleable__label-arrow:before {color: black;}#sk-container-id-1 div.sk-toggleable__content {max-height: 0;max-width: 0;overflow: hidden;text-align: left;background-color: #f0f8ff;}#sk-container-id-1 div.sk-toggleable__content pre {margin: 0.2em;color: black;border-radius: 0.25em;background-color: #f0f8ff;}#sk-container-id-1 input.sk-toggleable__control:checked~div.sk-toggleable__content {max-height: 200px;max-width: 100%;overflow: auto;}#sk-container-id-1 input.sk-toggleable__control:checked~label.sk-toggleable__label-arrow:before {content: \"▾\";}#sk-container-id-1 div.sk-estimator input.sk-toggleable__control:checked~label.sk-toggleable__label {background-color: #d4ebff;}#sk-container-id-1 div.sk-label input.sk-toggleable__control:checked~label.sk-toggleable__label {background-color: #d4ebff;}#sk-container-id-1 input.sk-hidden--visually {border: 0;clip: rect(1px 1px 1px 1px);clip: rect(1px, 1px, 1px, 1px);height: 1px;margin: -1px;overflow: hidden;padding: 0;position: absolute;width: 1px;}#sk-container-id-1 div.sk-estimator {font-family: monospace;background-color: #f0f8ff;border: 1px dotted black;border-radius: 0.25em;box-sizing: border-box;margin-bottom: 0.5em;}#sk-container-id-1 div.sk-estimator:hover {background-color: #d4ebff;}#sk-container-id-1 div.sk-parallel-item::after {content: \"\";width: 100%;border-bottom: 1px solid gray;flex-grow: 1;}#sk-container-id-1 div.sk-label:hover label.sk-toggleable__label {background-color: #d4ebff;}#sk-container-id-1 div.sk-serial::before {content: \"\";position: absolute;border-left: 1px solid gray;box-sizing: border-box;top: 0;bottom: 0;left: 50%;z-index: 0;}#sk-container-id-1 div.sk-serial {display: flex;flex-direction: column;align-items: center;background-color: white;padding-right: 0.2em;padding-left: 0.2em;position: relative;}#sk-container-id-1 div.sk-item {position: relative;z-index: 1;}#sk-container-id-1 div.sk-parallel {display: flex;align-items: stretch;justify-content: center;background-color: white;position: relative;}#sk-container-id-1 div.sk-item::before, #sk-container-id-1 div.sk-parallel-item::before {content: \"\";position: absolute;border-left: 1px solid gray;box-sizing: border-box;top: 0;bottom: 0;left: 50%;z-index: -1;}#sk-container-id-1 div.sk-parallel-item {display: flex;flex-direction: column;z-index: 1;position: relative;background-color: white;}#sk-container-id-1 div.sk-parallel-item:first-child::after {align-self: flex-end;width: 50%;}#sk-container-id-1 div.sk-parallel-item:last-child::after {align-self: flex-start;width: 50%;}#sk-container-id-1 div.sk-parallel-item:only-child::after {width: 0;}#sk-container-id-1 div.sk-dashed-wrapped {border: 1px dashed gray;margin: 0 0.4em 0.5em 0.4em;box-sizing: border-box;padding-bottom: 0.4em;background-color: white;}#sk-container-id-1 div.sk-label label {font-family: monospace;font-weight: bold;display: inline-block;line-height: 1.2em;}#sk-container-id-1 div.sk-label-container {text-align: center;}#sk-container-id-1 div.sk-container {/* jupyter's `normalize.less` sets `[hidden] { display: none; }` but bootstrap.min.css set `[hidden] { display: none !important; }` so we also need the `!important` here to be able to override the default hidden behavior on the sphinx rendered scikit-learn.org. See: https://github.com/scikit-learn/scikit-learn/issues/21755 */display: inline-block !important;position: relative;}#sk-container-id-1 div.sk-text-repr-fallback {display: none;}</style><div id=\"sk-container-id-1\" class=\"sk-top-container\"><div class=\"sk-text-repr-fallback\"><pre>FactorAnalyzer(rotation=None, rotation_kwargs={})</pre><b>In a Jupyter environment, please rerun this cell to show the HTML representation or trust the notebook. <br />On GitHub, the HTML representation is unable to render, please try loading this page with nbviewer.org.</b></div><div class=\"sk-container\" hidden><div class=\"sk-item\"><div class=\"sk-estimator sk-toggleable\"><input class=\"sk-toggleable__control sk-hidden--visually\" id=\"sk-estimator-id-1\" type=\"checkbox\" checked><label for=\"sk-estimator-id-1\" class=\"sk-toggleable__label sk-toggleable__label-arrow\">FactorAnalyzer</label><div class=\"sk-toggleable__content\"><pre>FactorAnalyzer(rotation=None, rotation_kwargs={})</pre></div></div></div></div></div>"
      ],
      "text/plain": [
       "FactorAnalyzer(rotation=None, rotation_kwargs={})"
      ]
     },
     "execution_count": 5,
     "metadata": {},
     "output_type": "execute_result"
    }
   ],
   "source": [
    "fa = FactorAnalyzer(rotation = None)\n",
    "fa.fit(df)"
   ]
  },
  {
   "cell_type": "code",
   "execution_count": 7,
   "id": "5962fb53",
   "metadata": {},
   "outputs": [
    {
     "data": {
      "text/plain": [
       "array([[ 0.42616497, -0.44106994,  0.09576734],\n",
       "       [-0.52178676,  0.13076868,  0.11997143],\n",
       "       [ 0.83920264, -0.07369469,  0.22542269],\n",
       "       [ 0.43095078,  0.41225643, -0.49839558],\n",
       "       [-0.04823715,  0.8071781 ,  0.60065836],\n",
       "       [-0.6751842 , -0.39911175,  0.20930777],\n",
       "       [ 0.35853712, -0.25144816,  0.60716394]])"
      ]
     },
     "execution_count": 7,
     "metadata": {},
     "output_type": "execute_result"
    }
   ],
   "source": [
    "fa.loadings_"
   ]
  },
  {
   "cell_type": "code",
   "execution_count": 8,
   "id": "67eac962",
   "metadata": {},
   "outputs": [
    {
     "data": {
      "text/plain": [
       "array([0.38533066, 0.30375502, 0.76050737, 0.60407209, 1.01465377,\n",
       "       0.65897363, 0.5604231 ])"
      ]
     },
     "execution_count": 8,
     "metadata": {},
     "output_type": "execute_result"
    }
   ],
   "source": [
    "fa.get_communalities()"
   ]
  },
  {
   "cell_type": "code",
   "execution_count": 9,
   "id": "24cfe680",
   "metadata": {},
   "outputs": [
    {
     "data": {
      "text/plain": [
       "(array([2.33853366, 1.61340808, 1.28819959, 0.81111241, 0.40200518,\n",
       "        0.33551465, 0.21122644]),\n",
       " array([ 1.93063226e+00,  1.27164802e+00,  1.10212104e+00,  2.59485438e-01,\n",
       "         3.62574232e-04, -8.73897913e-02, -1.89143910e-01]))"
      ]
     },
     "execution_count": 9,
     "metadata": {},
     "output_type": "execute_result"
    }
   ],
   "source": [
    "fa.get_eigenvalues()"
   ]
  },
  {
   "cell_type": "code",
   "execution_count": 10,
   "id": "1f8248eb",
   "metadata": {},
   "outputs": [
    {
     "data": {
      "text/plain": [
       "(array([1.93060703, 1.26108226, 1.09602634]),\n",
       " array([0.275801  , 0.18015461, 0.15657519]),\n",
       " array([0.275801  , 0.45595561, 0.6125308 ]))"
      ]
     },
     "execution_count": 10,
     "metadata": {},
     "output_type": "execute_result"
    }
   ],
   "source": [
    "fa.get_factor_variance()"
   ]
  },
  {
   "cell_type": "code",
   "execution_count": 11,
   "id": "498ef3a0",
   "metadata": {},
   "outputs": [
    {
     "data": {
      "text/plain": [
       "array([ 0.61466934,  0.69624498,  0.23949263,  0.39592791, -0.01465377,\n",
       "        0.34102637,  0.4395769 ])"
      ]
     },
     "execution_count": 11,
     "metadata": {},
     "output_type": "execute_result"
    }
   ],
   "source": [
    "fa.get_uniquenesses()"
   ]
  }
 ],
 "metadata": {
  "kernelspec": {
   "display_name": "Python 3 (ipykernel)",
   "language": "python",
   "name": "python3"
  },
  "language_info": {
   "codemirror_mode": {
    "name": "ipython",
    "version": 3
   },
   "file_extension": ".py",
   "mimetype": "text/x-python",
   "name": "python",
   "nbconvert_exporter": "python",
   "pygments_lexer": "ipython3",
   "version": "3.11.3"
  }
 },
 "nbformat": 4,
 "nbformat_minor": 5
}
