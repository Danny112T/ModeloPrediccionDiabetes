{
 "cells": [
  {
   "cell_type": "markdown",
   "metadata": {},
   "source": [
    "# Mineria de datos"
   ]
  },
  {
   "cell_type": "markdown",
   "metadata": {},
   "source": [
    "## 07-09-23\n",
    "### Fases comunes en la importacion de datos para la mineria de datos\n",
    "- Identificación de la fuente de datos\n",
    "- Extracción de datos\n",
    "- Limpieza y procesamiento\n",
    "- Transformación y enriquecimiento\n",
    "- Division del conjunto de datos\n",
    "- Importación al entorno de mineria de datos\n",
    "\n",
    "### Herramientas y lenguajes comunes\n",
    "- SQL \n",
    "- Python (Pandas, scikit-learn,etc)\n",
    "- R\n",
    "- hadoop/spark\n",
    "- ETL tools\n",
    "\n",
    "### Consideraciones Especiales\n",
    "- Calidad de datos: Asegúrese de que los datos sean representativos y de alta calidad.\n",
    "- Privacidad y seguridad: Es esencial seguir las mejores prácticas y regulaciones legales al manejar datos personales o sensibles.\n",
    "\n",
    "### Importación de datos\n",
    "- ETL (Extraer, transformar y cargar)\n",
    "- CSV/Excel\n",
    "- APIs\n",
    "- Conectores de Base de Datos\n",
    "- Streaming de datos\n",
    "\n",
    "// Ejemplo 6\n",
    "\n",
    "### Uso de conectores\n",
    "- Conectores de almacenamientos de datos: Estos son especificos para plataformas como SNowFlake, Redshift, BigQuery, etc, y facilitan la extracción de datos hacia los cubos.\n",
    "- Conectores de SaaS: Estos conectores permiten integrar datos de aplicaciones de software como servicio (SaaS), como Salesforce, GoogleAnalytics, etc.\n",
    "- Conectores SQL y NoSQL\n",
    "- Conectores Personalizados\n",
    "- Conectores de Hojas de Cálculo\n",
    "- Conectores en la Nube\n",
    "\n",
    "#### Consideraciónes\n",
    "- Formato de datos\n",
    "- Rendimiento\n",
    "- Seguridad\n",
    "- Actualizaciones y mantenimiento\n",
    "// Ejemplo 7\n",
    "\n",
    "\n"
   ]
  }
 ],
 "metadata": {
  "kernelspec": {
   "display_name": "Python 3",
   "language": "python",
   "name": "python3"
  },
  "language_info": {
   "codemirror_mode": {
    "name": "ipython",
    "version": 3
   },
   "file_extension": ".py",
   "mimetype": "text/x-python",
   "name": "python",
   "nbconvert_exporter": "python",
   "pygments_lexer": "ipython3",
   "version": "3.11.5"
  },
  "orig_nbformat": 4
 },
 "nbformat": 4,
 "nbformat_minor": 2
}
