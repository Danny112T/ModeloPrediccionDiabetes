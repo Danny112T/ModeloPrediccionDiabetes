{
 "cells": [
  {
   "cell_type": "code",
   "execution_count": null,
   "metadata": {},
   "outputs": [],
   "source": [
    "import matplotlib.pyplot as plt\n",
    "import numpy as np\n",
    "from sklearn import datasets, linear_model\n",
    "from sklearn.metrics import mean_squared_error, r2_score\n",
    "from sklearn.model_selection import train_test_split\n",
    "from sklearn.tree import DecisionTreeClassifier\n",
    "from sklearn.metrics import accuracy_score, confusion_matrix\n",
    "\n",
    "iris = datasets.load_iris()\n",
    "X = iris.data[:,np.newaxis,0]\n",
    "y = iris.data[:,np.newaxis,1]\n",
    "\n",
    "X_train, X_test, Y_train, Y_test = train_test_split(X, y, test_size=0.2,random_state=42)\n",
    "\n",
    "\n",
    "regr = linear_model.LinearRegression()\n",
    "regr.fit(X_train,Y_train)\n",
    "y_predReg = regr.predict(X_test)\n",
    "\n",
    "clf = DecisionTreeClassifier(random_state=42)\n",
    "clf.fit(X_train,Y_train)\n",
    "y_predTree = clf.predict(X_test)\n",
    "\n",
    "print('----------Regresión Lineal----------')\n",
    "print('Coeficientes: \\n', regr.coef_)\n",
    "print('Mean squared error: %.2f' % mean_squared_error(Y_test,y_predReg))\n",
    "# El coeficiente de determinación: 1 es predicción perfecta\n",
    "print('Coeficiente de determinación: %.2f' % r2_score(Y_test,y_predReg))\n",
    "print('\\n')\n",
    "\n",
    "print('----------Arbol de Decisión----------')\n",
    "accuracy = accuracy_score(Y_test, y_predTree)\n",
    "conf_matrix = confusion_matrix(Y_test, y_predTree)\n",
    "print(f'Accuary: {accuracy * 100:.2f}%')\n",
    "print(f'Confusion Matrix:\\n{conf_matrix}')\n",
    "print('\\n')\n",
    "\n",
    "\n",
    "plt.scatter(X_test,Y_test,color='black')\n",
    "plt.plot(X_test,Y_predReg,color='blue',linewidth=3)\n",
    "plt.xlabel('sepal length (cm))')\n",
    "plt.ylabel('sepal width (cm)')\n",
    "plt.title('Regresión Lineal')\n",
    "plt.show()"
   ]
  }
 ],
 "metadata": {
  "kernelspec": {
   "display_name": "Python 3",
   "language": "python",
   "name": "python3"
  },
  "language_info": {
   "codemirror_mode": {
    "name": "ipython",
    "version": 3
   },
   "file_extension": ".py",
   "mimetype": "text/x-python",
   "name": "python",
   "nbconvert_exporter": "python",
   "pygments_lexer": "ipython3",
   "version": "3.11.5"
  },
  "orig_nbformat": 4
 },
 "nbformat": 4,
 "nbformat_minor": 2
}
