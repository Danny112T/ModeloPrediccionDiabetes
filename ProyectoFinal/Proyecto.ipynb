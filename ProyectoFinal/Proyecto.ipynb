{
 "cells": [
  {
   "cell_type": "markdown",
   "metadata": {},
   "source": [
    "# Proyecto Final: Los Michis"
   ]
  },
  {
   "cell_type": "code",
   "execution_count": 43,
   "metadata": {},
   "outputs": [],
   "source": [
    "import pandas as pd\n",
    "import numpy as np\n",
    "from sklearn.model_selection import train_test_split\n",
    "from sklearn.feature_extraction.text import CountVectorizer\n",
    "from sklearn.naive_bayes import MultinomialNB\n",
    "from sklearn.tree import DecisionTreeClassifier\n",
    "from sklearn import metrics, svm\n",
    "import matplotlib.pyplot as plt\n",
    "\n",
    "# Configuración de pandas para mostrar todas las filas\n",
    "pd.set_option('display.max_rows', None)\n"
   ]
  },
  {
   "cell_type": "markdown",
   "metadata": {},
   "source": [
    "### Recolección de Datos.\n",
    "### Preprocesamiento de Datos.\n"
   ]
  },
  {
   "cell_type": "code",
   "execution_count": 47,
   "metadata": {},
   "outputs": [
    {
     "name": "stderr",
     "output_type": "stream",
     "text": [
      "/var/folders/zh/1___606s7jv0cx79lmmsklq80000gn/T/ipykernel_11086/3343144620.py:2: DtypeWarning: Columns (570) have mixed types. Specify dtype option on import or set low_memory=False.\n",
      "  df0 = pd.read_csv('/Users/danny/Library/Mobile Documents/com~apple~CloudDocs/Documents/7mo Semestre/Mineria de datos/Ejemplos/ProyectoFinal/Datasets/ensadul2022_entrega_w.csv', delimiter=';')\n",
      "/var/folders/zh/1___606s7jv0cx79lmmsklq80000gn/T/ipykernel_11086/3343144620.py:5: DtypeWarning: Columns (90,91,96,97,102,103,104,107,108,111,112,113,114,115,116,117,118) have mixed types. Specify dtype option on import or set low_memory=False.\n",
      "  df3 = pd.read_csv('/Users/danny/Library/Mobile Documents/com~apple~CloudDocs/Documents/7mo Semestre/Mineria de datos/Ejemplos/ProyectoFinal/Datasets/ensafisica2022_adultos_entrega_w.csv', delimiter=';')\n"
     ]
    },
    {
     "name": "stdout",
     "output_type": "stream",
     "text": [
      "FOLIO_INT               0\n",
      "a0301                   0\n",
      "fa0400                  0\n",
      "fa0401                  0\n",
      "fa0403                 14\n",
      "fa0405                 14\n",
      "fa0406bh             4926\n",
      "fa0406bm             4943\n",
      "fa0407h                14\n",
      "fa0408                 14\n",
      "fa0409h              1011\n",
      "fa0409m              1019\n",
      "fa0410                 14\n",
      "fa0411                 14\n",
      "fa0412                 14\n",
      "fa0413                 14\n",
      "fa0414                 14\n",
      "fa0415                 14\n",
      "FOLIO_I                 0\n",
      "entidad                 0\n",
      "municipio               0\n",
      "h0302                   0\n",
      "h0303                   0\n",
      "fech_nac              256\n",
      "sc                    256\n",
      "sh                    256\n",
      "sm                    256\n",
      "int_hemoglobina       256\n",
      "nota11                324\n",
      "nota02               2711\n",
      "hb02                 3021\n",
      "hb07a                3224\n",
      "completa                0\n",
      "MATRIZ_SUERO            0\n",
      "valor_AC_URICO       3289\n",
      "valor_ALBU           3289\n",
      "valor_COL_HDL        3289\n",
      "valor_COL_LDL        3289\n",
      "valor_COLEST         3289\n",
      "valor_CREAT          3289\n",
      "valor_GLU_SUERO      3289\n",
      "valor_INSULINA       3289\n",
      "valor_PCR            3289\n",
      "valor_TRIG           3289\n",
      "MATRIZ_SANGRE           0\n",
      "valor_EAG            3307\n",
      "valor_HB1AC          3307\n",
      "MATRIZ_SUEROMICRO    4084\n",
      "valor_FERRITINA      4085\n",
      "valor_FOL            4085\n",
      "valor_HCST           4084\n",
      "valor_PROTCREAC      4085\n",
      "valor_STFR_FEB23     4141\n",
      "valor_VIT_B12        4087\n",
      "valor_VIT_D          4084\n",
      "ponde_v              3282\n",
      "cuenta_mic              0\n",
      "ponde_m12a49         4090\n",
      "ponde_m0a11          4948\n",
      "estrato                 0\n",
      "an01_1                825\n",
      "an01_2                825\n",
      "an04_1                825\n",
      "an04_2                825\n",
      "an08_1                995\n",
      "an08_2                995\n",
      "an10                 4123\n",
      "an12_1               4142\n",
      "an12_2               4142\n",
      "an15_1               4142\n",
      "an15_2               4142\n",
      "an17_1               4127\n",
      "an21_1               4140\n",
      "an21_2               4140\n",
      "an23                 4932\n",
      "an25                 4932\n",
      "an27_01s                0\n",
      "an27_01d               32\n",
      "an27_02s               32\n",
      "an27_02d               32\n",
      "an27_03s               32\n",
      "an27_03d               32\n",
      "an29                   32\n",
      "dtype: int64\n"
     ]
    }
   ],
   "source": [
    "# Carga de los datasets\n",
    "df0 = pd.read_csv('/Users/danny/Library/Mobile Documents/com~apple~CloudDocs/Documents/7mo Semestre/Mineria de datos/Ejemplos/ProyectoFinal/Datasets/ensadul2022_entrega_w.csv', delimiter=';')\n",
    "df1 = pd.read_csv('/Users/danny/Library/Mobile Documents/com~apple~CloudDocs/Documents/7mo Semestre/Mineria de datos/Ejemplos/ProyectoFinal/Datasets/ensaantro2022_entrega_w.csv', delimiter=';')\n",
    "df2 = pd.read_csv('/Users/danny/Library/Mobile Documents/com~apple~CloudDocs/Documents/7mo Semestre/Mineria de datos/Ejemplos/ProyectoFinal/Datasets/Determinaciones_bioquímicas_cronicas_deficiencias_9feb23.csv', delimiter=';')\n",
    "df3 = pd.read_csv('/Users/danny/Library/Mobile Documents/com~apple~CloudDocs/Documents/7mo Semestre/Mineria de datos/Ejemplos/ProyectoFinal/Datasets/ensafisica2022_adultos_entrega_w.csv', delimiter=';')\n",
    "# Selección de columnas de interés\n",
    "df0_selected_columns = [\n",
    "    'FOLIO_INT','a0301'\n",
    "]\n",
    "\n",
    "df1_selected_columns = ['FOLIO_INT',\n",
    "    'an01_1','an01_2','an04_1','an04_2','an08_1','an08_2','an10','an12_1','an12_2','an15_1','an15_2','an17_1',\n",
    "    'an21_1','an21_2','an23','an25','an27_01s','an27_01d','an27_02s','an27_02d','an27_03s','an27_03d','an29',\n",
    "]\n",
    "\n",
    "df2_selected_columns = [    \n",
    "    'FOLIO_I', 'FOLIO_INT', 'entidad', 'municipio', 'h0302', 'h0303', 'fech_nac',\n",
    "    'sc', 'sh', 'sm', 'int_hemoglobina', 'nota11', 'nota02', 'hb02', 'hb07a',\n",
    "    'completa', 'MATRIZ_SUERO', 'valor_AC_URICO', 'valor_ALBU','valor_COL_HDL',\n",
    "    'valor_COL_LDL','valor_COLEST','valor_CREAT','valor_GLU_SUERO','valor_INSULINA',\n",
    "    'valor_PCR','valor_TRIG','MATRIZ_SANGRE', 'valor_EAG','valor_HB1AC','MATRIZ_SUEROMICRO',\n",
    "    'valor_FERRITINA','valor_FOL','valor_HCST','valor_PROTCREAC','valor_STFR_FEB23',\n",
    "    'valor_VIT_B12','valor_VIT_D','ponde_v','cuenta_mic', 'ponde_m12a49', 'ponde_m0a11', 'estrato'\n",
    "]\n",
    "\n",
    "df3_selected_columns = ['FOLIO_INT',\n",
    "    'fa0400','fa0401','fa0403','fa0405','fa0406bh','fa0406bm','fa0407h',\n",
    "    'fa0408','fa0409h','fa0409m','fa0410','fa0411','fa0412','fa0413',\n",
    "    'fa0414','fa0415',\n",
    "]\n",
    "\n",
    "# Union de los datasets por el campo FOLIO_INT \n",
    "merged_df = pd.merge(df0[df0_selected_columns], df3[df3_selected_columns], on='FOLIO_INT', how='inner')\n",
    "merged_df = pd.merge(merged_df, df2[df2_selected_columns], on='FOLIO_INT', how='inner')\n",
    "merged_df = pd.merge(merged_df, df1[df1_selected_columns], on='FOLIO_INT', how='inner')\n",
    "\n",
    "merged_df.drop(merged_df[merged_df['a0301'] == 2].index, inplace=True)\n",
    "\n",
    "#limpieza de datos\n",
    "merged_df.replace(r'^\\s*$', np.nan, regex=True, inplace=True)\n",
    "null_count = merged_df.isnull().sum()\n",
    "print(null_count)\n",
    "\n",
    "# Nuevo dataset\n",
    "merged_df.to_csv('/Users/danny/Library/Mobile Documents/com~apple~CloudDocs/Documents/7mo Semestre/Mineria de datos/Ejemplos/ProyectoFinal/Datasets/Pd.csv', index=False)\n",
    "\n"
   ]
  },
  {
   "cell_type": "markdown",
   "metadata": {},
   "source": [
    "### Normalización/estandarización de los datos.\n"
   ]
  },
  {
   "cell_type": "code",
   "execution_count": null,
   "metadata": {},
   "outputs": [],
   "source": []
  }
 ],
 "metadata": {
  "kernelspec": {
   "display_name": "Python 3",
   "language": "python",
   "name": "python3"
  },
  "language_info": {
   "codemirror_mode": {
    "name": "ipython",
    "version": 3
   },
   "file_extension": ".py",
   "mimetype": "text/x-python",
   "name": "python",
   "nbconvert_exporter": "python",
   "pygments_lexer": "ipython3",
   "version": "3.11.5"
  }
 },
 "nbformat": 4,
 "nbformat_minor": 2
}
